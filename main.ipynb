{
 "cells": [
  {
   "cell_type": "markdown",
   "metadata": {},
   "source": [
    "Começo"
   ]
  },
  {
   "cell_type": "code",
   "execution_count": 2,
   "metadata": {},
   "outputs": [
    {
     "ename": "ImportError",
     "evalue": "module GrafoMA not in sys.modules",
     "output_type": "error",
     "traceback": [
      "\u001b[1;31m---------------------------------------------------------------------------\u001b[0m",
      "\u001b[1;31mImportError\u001b[0m                               Traceback (most recent call last)",
      "Cell \u001b[1;32mIn[2], line 4\u001b[0m\n\u001b[0;32m      1\u001b[0m \u001b[38;5;28;01mfrom\u001b[39;00m \u001b[38;5;21;01mGrafo\u001b[39;00m \u001b[38;5;28;01mimport\u001b[39;00m GrafoMA\n\u001b[0;32m      3\u001b[0m \u001b[38;5;28;01mimport\u001b[39;00m \u001b[38;5;21;01mimportlib\u001b[39;00m\n\u001b[1;32m----> 4\u001b[0m \u001b[43mimportlib\u001b[49m\u001b[38;5;241;43m.\u001b[39;49m\u001b[43mreload\u001b[49m\u001b[43m(\u001b[49m\u001b[43mGrafoMA\u001b[49m\u001b[43m)\u001b[49m\n",
      "File \u001b[1;32m~\\miniconda3\\Lib\\importlib\\__init__.py:111\u001b[0m, in \u001b[0;36mreload\u001b[1;34m(module)\u001b[0m\n\u001b[0;32m    108\u001b[0m         \u001b[38;5;28;01mraise\u001b[39;00m \u001b[38;5;167;01mTypeError\u001b[39;00m(\u001b[38;5;124m\"\u001b[39m\u001b[38;5;124mreload() argument must be a module\u001b[39m\u001b[38;5;124m\"\u001b[39m)\n\u001b[0;32m    110\u001b[0m \u001b[38;5;28;01mif\u001b[39;00m sys\u001b[38;5;241m.\u001b[39mmodules\u001b[38;5;241m.\u001b[39mget(name) \u001b[38;5;129;01mis\u001b[39;00m \u001b[38;5;129;01mnot\u001b[39;00m module:\n\u001b[1;32m--> 111\u001b[0m     \u001b[38;5;28;01mraise\u001b[39;00m \u001b[38;5;167;01mImportError\u001b[39;00m(\u001b[38;5;124mf\u001b[39m\u001b[38;5;124m\"\u001b[39m\u001b[38;5;124mmodule \u001b[39m\u001b[38;5;132;01m{\u001b[39;00mname\u001b[38;5;132;01m}\u001b[39;00m\u001b[38;5;124m not in sys.modules\u001b[39m\u001b[38;5;124m\"\u001b[39m, name\u001b[38;5;241m=\u001b[39mname)\n\u001b[0;32m    112\u001b[0m \u001b[38;5;28;01mif\u001b[39;00m name \u001b[38;5;129;01min\u001b[39;00m _RELOADING:\n\u001b[0;32m    113\u001b[0m     \u001b[38;5;28;01mreturn\u001b[39;00m _RELOADING[name]\n",
      "\u001b[1;31mImportError\u001b[0m: module GrafoMA not in sys.modules"
     ]
    }
   ],
   "source": [
    "from Grafo import GrafoMA\n",
    "\n",
    "import importlib\n",
    "importlib.reload(GrafoMA)\n"
   ]
  },
  {
   "cell_type": "code",
   "execution_count": 2,
   "metadata": {},
   "outputs": [
    {
     "name": "stdout",
     "output_type": "stream",
     "text": [
      "[\n",
      "  [[], [], [], [], []]\n",
      "  [[], [], [], [], []]\n",
      "  [[], [], [], [], []]\n",
      "  [[], [], [], [], [1, 1, 7, 7, a, a]]\n",
      "  [[], [], [], [], []]\n",
      "]\n",
      "\n",
      "\n",
      "[\n",
      "  [[], [], [], [], [], [], []]\n",
      "  [[], [], [], [], [], [], []]\n",
      "  [[], [], [], [], [], [], []]\n",
      "  [[], [], [], [], [1, 1, 7, 7, a, a], [], []]\n",
      "  [[], [], [], [], [], [], []]\n",
      "  [[], [], [], [], [], [], []]\n",
      "  [[], [], [], [], [], [], []]\n",
      "]\n",
      "\n",
      "{'A': 0, 'B': 1, 'C': 2, 1: 3, 2: 4, 'F': 5, 'P': 6}\n"
     ]
    }
   ],
   "source": [
    "a = GrafoMA(DIRECTED=False, num_vertices=3)\n",
    "\n",
    "a.add_edge(1,2)\n",
    "a.add_edge(1,2, 7)\n",
    "a.add_edge(1,2, 'a')\n",
    "print(a)\n",
    "a.add_vertice()\n",
    "a.add_vertice('P')\n",
    "print(\"\\n\")\n",
    "print(a)\n",
    "\n",
    "print()\n",
    "print(a.vertices_map)"
   ]
  },
  {
   "cell_type": "code",
   "execution_count": 36,
   "metadata": {},
   "outputs": [
    {
     "name": "stdout",
     "output_type": "stream",
     "text": [
      "[\n",
      "  [[], [1], [1], [], []]\n",
      "  [[], [], [], [], []]\n",
      "  [[], [], [], [], []]\n",
      "  [[], [], [], [], [1]]\n",
      "  [[], [], [], [], []]\n",
      "]\n",
      "\n",
      "{'A': 0, 'B': 1, 'C': 2, 'P': 3, 'L': 4}\n"
     ]
    }
   ],
   "source": [
    "a = GrafoMA(DIRECTED=True)\n",
    "\n",
    "a.add_edge('A', 'B', 1)\n",
    "a.add_edge('A', 'C', 1)\n",
    "a.add_edge('P', 'L', 1)\n",
    "\n",
    "print(a)\n",
    "print()\n",
    "print(a.vertices_map)\n"
   ]
  },
  {
   "cell_type": "code",
   "execution_count": 34,
   "metadata": {},
   "outputs": [
    {
     "name": "stdout",
     "output_type": "stream",
     "text": [
      "[\n",
      "  [[], [], []]\n",
      "  [[], [], []]\n",
      "  [[], [], []]\n",
      "]\n",
      "\n",
      "{'Vertice1': 0, 'Vertice2': 1, 'Vertice3': 2}\n"
     ]
    }
   ],
   "source": [
    "a = GrafoMA(DIRECTED=False, num_vertices=3, vertices_name=[\"Vertice1\", \"Vertice2\", \"Vertice3\"])\n",
    "\n",
    "print(a)\n",
    "print()\n",
    "print(a.vertices_map)\n"
   ]
  },
  {
   "cell_type": "code",
   "execution_count": 3,
   "metadata": {},
   "outputs": [
    {
     "name": "stdout",
     "output_type": "stream",
     "text": [
      "[\n",
      "  \n",
      "]\n",
      "{}\n"
     ]
    }
   ],
   "source": [
    "a = GrafoMA(DIRECTED=False)\n",
    "\n",
    "print(a)\n",
    "print(a.vertices_map)"
   ]
  },
  {
   "cell_type": "code",
   "execution_count": 2,
   "metadata": {},
   "outputs": [
    {
     "name": "stdout",
     "output_type": "stream",
     "text": [
      "{0: '1', 1: '2', 2: '3', 3: '4', 4: '5', 5: '6', 6: '7', 7: '8', 8: '9', 9: '10', 10: '11', 11: '12', 12: '13', 13: '14', 14: '15', 15: '16', 16: '17', 17: '18', 18: '19'}\n",
      "   Adjacency Matrix\n",
      "\n",
      "      0    1    2    3    4    5    6    7    8    9    10   11   12   13   14   15   16   17   18   \n",
      "0 |   0    0    0    0    0    0    0    0    0    0    0    0    0    0    0    0    0    0    0  \n",
      "1 |   0    0    0    0    0    0    0    0    0    0    0    0    0    0    0    0    0    0    0  \n",
      "2 |   0    0    0    0    0    0    0    0    0    0    0    0    0    0    0    0    0    0    0  \n",
      "3 |   0    0    0    0    0    0    0    0    0    0    0    0    0    0    0    0    0    0    0  \n",
      "4 |   0    0    0    0    0    0    0    0    0    0    0    0    0    0    0    0    0    0    0  \n",
      "5 |   0    0    0    0    0    0    0    0    0    0    0    0    0    0    0    0    0    0    0  \n",
      "6 |   0    0    0    0    0    0    0    0    0    0    0    0    0    0    0    0    0    0    0  \n",
      "7 |   0    0    0    0    0    0    0    0    0    0    0    0    0    0    0    0    0    0    0  \n",
      "8 |   0    0    0    0    0    0    0    0    0    0    0    0    0    0    0    0    0    0    0  \n",
      "9 |   0    0    0    0    0    0    0    0    0    0    0    0    0    0    0    0    0    0    0  \n",
      "10|   0    0    0    0    0    0    0    0    0    0    0    0    0    0    0    0    0    0    0  \n",
      "11|   0    0    0    0    0    0    0    0    0    0    0    0    0    0    0    0    0    0    0  \n",
      "12|   0    0    0    0    0    0    0    0    0    0    0    0    0    0    0    0    0    0    0  \n",
      "13|   0    0    0    0    0    0    0    0    0    0    0    0    0    0    0    0    0    0    0  \n",
      "14|   0    0    0    0    0    0    0    0    0    0    0    0    0    0    0    0    0    0    0  \n",
      "15|   0    0    0    0    0    0    0    0    0    0    0    0    0    0    0    0    0    0    0  \n",
      "16|   0    0    0    0    0    0    0    0    0    0    0    0    0    0    0    0    0    0    0  \n",
      "17|   0    0    0    0    0    0    0    0    0    0    0    0    0    0    0    0    0    0    0  \n",
      "18|   0    0    0    0    0    0    0    0    0    0    0    0    0    0    0    0    0    0    0  \n",
      "\n"
     ]
    }
   ],
   "source": [
    "from Grafo import GrafoMA\n",
    "\n",
    "a = GrafoMA(num_nodes=19)\n",
    "print(a.nodes_map)\n",
    "print(a)"
   ]
  }
 ],
 "metadata": {
  "kernelspec": {
   "display_name": "venv",
   "language": "python",
   "name": "python3"
  },
  "language_info": {
   "codemirror_mode": {
    "name": "ipython",
    "version": 3
   },
   "file_extension": ".py",
   "mimetype": "text/x-python",
   "name": "python",
   "nbconvert_exporter": "python",
   "pygments_lexer": "ipython3",
   "version": "3.12.4"
  }
 },
 "nbformat": 4,
 "nbformat_minor": 2
}
